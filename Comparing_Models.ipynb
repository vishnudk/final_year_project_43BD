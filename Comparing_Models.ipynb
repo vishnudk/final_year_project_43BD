{
  "nbformat": 4,
  "nbformat_minor": 0,
  "metadata": {
    "colab": {
      "name": "Comparing Models.ipynb",
      "provenance": [],
      "collapsed_sections": []
    },
    "kernelspec": {
      "name": "python3",
      "display_name": "Python 3"
    },
    "language_info": {
      "name": "python"
    }
  },
  "cells": [
    {
      "cell_type": "markdown",
      "source": [
        "#After Vaccination"
      ],
      "metadata": {
        "id": "cpY4BW_gvvzR"
      }
    },
    {
      "cell_type": "markdown",
      "source": [
        "##Common libraries and data"
      ],
      "metadata": {
        "id": "3WiDGv0YffT6"
      }
    },
    {
      "cell_type": "markdown",
      "source": [
        "####Importing libraries for basic data processing"
      ],
      "metadata": {
        "id": "G9dvjUhme49m"
      }
    },
    {
      "cell_type": "code",
      "source": [
        "import numpy as np\n",
        "import pandas as pd\n",
        "import matplotlib.pyplot as plt\n",
        "from sklearn.preprocessing import MinMaxScaler"
      ],
      "metadata": {
        "id": "jYpZ96k2e3lE"
      },
      "execution_count": 1,
      "outputs": []
    },
    {
      "cell_type": "markdown",
      "source": [
        "####Downloading and sorting dataset"
      ],
      "metadata": {
        "id": "qKrmbFcVfTKC"
      }
    },
    {
      "cell_type": "code",
      "source": [
        "#After vaccination\n",
        "covid_df = pd.read_csv(\"/content/drive/MyDrive/Final Year Project/saved data/covid_afterVaccination_dataset.csv\")\n",
        "global_data = pd.read_csv(\"/content/drive/MyDrive/Final Year Project/saved data/covidData_withISO.csv\")\n",
        "\n",
        "covid_df.info()"
      ],
      "metadata": {
        "id": "QaAOGfSnfXrD",
        "colab": {
          "base_uri": "https://localhost:8080/"
        },
        "outputId": "aaa947fa-82e7-46bd-8062-be1c0d5d2d79"
      },
      "execution_count": 2,
      "outputs": [
        {
          "output_type": "stream",
          "name": "stdout",
          "text": [
            "<class 'pandas.core.frame.DataFrame'>\n",
            "RangeIndex: 70951 entries, 0 to 70950\n",
            "Data columns (total 9 columns):\n",
            " #   Column                     Non-Null Count  Dtype  \n",
            "---  ------                     --------------  -----  \n",
            " 0   Unnamed: 0                 70951 non-null  int64  \n",
            " 1   Unnamed: 0_x               70951 non-null  int64  \n",
            " 2   location                   70951 non-null  object \n",
            " 3   iso_code                   70951 non-null  object \n",
            " 4   total_vaccination_per_day  70951 non-null  float64\n",
            " 5   Unnamed: 0_y               70951 non-null  int64  \n",
            " 6   Country/Region             70951 non-null  object \n",
            " 7   dates                      70951 non-null  object \n",
            " 8   confirmed_cases            70951 non-null  int64  \n",
            "dtypes: float64(1), int64(4), object(4)\n",
            "memory usage: 4.9+ MB\n"
          ]
        }
      ]
    },
    {
      "cell_type": "code",
      "source": [
        "global_data.info()"
      ],
      "metadata": {
        "colab": {
          "base_uri": "https://localhost:8080/"
        },
        "id": "0QsC4T5d37fB",
        "outputId": "c491d347-501d-40c4-85f4-344914f250fb"
      },
      "execution_count": 3,
      "outputs": [
        {
          "output_type": "stream",
          "name": "stdout",
          "text": [
            "<class 'pandas.core.frame.DataFrame'>\n",
            "RangeIndex: 150540 entries, 0 to 150539\n",
            "Data columns (total 5 columns):\n",
            " #   Column           Non-Null Count   Dtype \n",
            "---  ------           --------------   ----- \n",
            " 0   Unnamed: 0       150540 non-null  int64 \n",
            " 1   Country/Region   150540 non-null  object\n",
            " 2   dates            150540 non-null  object\n",
            " 3   confirmed_cases  150540 non-null  int64 \n",
            " 4   iso_code         150540 non-null  object\n",
            "dtypes: int64(2), object(3)\n",
            "memory usage: 5.7+ MB\n"
          ]
        }
      ]
    },
    {
      "cell_type": "code",
      "source": [
        "covid_df.dates = pd.to_datetime(covid_df.dates,infer_datetime_format=True)\n",
        "covid_df.info()"
      ],
      "metadata": {
        "colab": {
          "base_uri": "https://localhost:8080/"
        },
        "id": "sk_r4fwalC0_",
        "outputId": "66e6bed8-240e-4724-a7ef-e99c0696e622"
      },
      "execution_count": 4,
      "outputs": [
        {
          "output_type": "stream",
          "name": "stdout",
          "text": [
            "<class 'pandas.core.frame.DataFrame'>\n",
            "RangeIndex: 70951 entries, 0 to 70950\n",
            "Data columns (total 9 columns):\n",
            " #   Column                     Non-Null Count  Dtype         \n",
            "---  ------                     --------------  -----         \n",
            " 0   Unnamed: 0                 70951 non-null  int64         \n",
            " 1   Unnamed: 0_x               70951 non-null  int64         \n",
            " 2   location                   70951 non-null  object        \n",
            " 3   iso_code                   70951 non-null  object        \n",
            " 4   total_vaccination_per_day  70951 non-null  float64       \n",
            " 5   Unnamed: 0_y               70951 non-null  int64         \n",
            " 6   Country/Region             70951 non-null  object        \n",
            " 7   dates                      70951 non-null  datetime64[ns]\n",
            " 8   confirmed_cases            70951 non-null  int64         \n",
            "dtypes: datetime64[ns](1), float64(1), int64(4), object(3)\n",
            "memory usage: 4.9+ MB\n"
          ]
        }
      ]
    },
    {
      "cell_type": "code",
      "source": [
        "covid_df"
      ],
      "metadata": {
        "colab": {
          "base_uri": "https://localhost:8080/",
          "height": 424
        },
        "id": "BUXmsjHOmp7c",
        "outputId": "ce81629b-4ef2-4db9-cd52-7768a762c1ce"
      },
      "execution_count": 5,
      "outputs": [
        {
          "output_type": "execute_result",
          "data": {
            "text/plain": [
              "       Unnamed: 0  Unnamed: 0_x     location iso_code  \\\n",
              "0               0             0  Afghanistan      AFG   \n",
              "1               1             1  Afghanistan      AFG   \n",
              "2               2             2  Afghanistan      AFG   \n",
              "3               3             3  Afghanistan      AFG   \n",
              "4               4             4  Afghanistan      AFG   \n",
              "...           ...           ...          ...      ...   \n",
              "70946       70946         87816     Zimbabwe      ZWE   \n",
              "70947       70947         87817     Zimbabwe      ZWE   \n",
              "70948       70948         87818     Zimbabwe      ZWE   \n",
              "70949       70949         87819     Zimbabwe      ZWE   \n",
              "70950       70950         87820     Zimbabwe      ZWE   \n",
              "\n",
              "       total_vaccination_per_day  Unnamed: 0_y Country/Region      dates  \\\n",
              "0                            0.0           397    Afghanistan 2021-02-22   \n",
              "1                         1367.0           398    Afghanistan 2021-02-23   \n",
              "2                         2734.0           399    Afghanistan 2021-02-24   \n",
              "3                         4101.0           400    Afghanistan 2021-02-25   \n",
              "4                         5468.0           401    Afghanistan 2021-02-26   \n",
              "...                          ...           ...            ...        ...   \n",
              "70946                  4372952.0        154434       Zimbabwe 2022-03-06   \n",
              "70947                  4375484.0        154435       Zimbabwe 2022-03-07   \n",
              "70948                  4377788.0        154436       Zimbabwe 2022-03-08   \n",
              "70949                  4380368.0        154437       Zimbabwe 2022-03-09   \n",
              "70950                  4382822.0        154438       Zimbabwe 2022-03-10   \n",
              "\n",
              "       confirmed_cases  \n",
              "0                55617  \n",
              "1                55646  \n",
              "2                55664  \n",
              "3                55680  \n",
              "4                55696  \n",
              "...                ...  \n",
              "70946          6842244  \n",
              "70947          6906704  \n",
              "70948          6972949  \n",
              "70949          7047195  \n",
              "70950          7121713  \n",
              "\n",
              "[70951 rows x 9 columns]"
            ],
            "text/html": [
              "\n",
              "  <div id=\"df-f513f60c-944d-4cfb-8a2e-457523297f78\">\n",
              "    <div class=\"colab-df-container\">\n",
              "      <div>\n",
              "<style scoped>\n",
              "    .dataframe tbody tr th:only-of-type {\n",
              "        vertical-align: middle;\n",
              "    }\n",
              "\n",
              "    .dataframe tbody tr th {\n",
              "        vertical-align: top;\n",
              "    }\n",
              "\n",
              "    .dataframe thead th {\n",
              "        text-align: right;\n",
              "    }\n",
              "</style>\n",
              "<table border=\"1\" class=\"dataframe\">\n",
              "  <thead>\n",
              "    <tr style=\"text-align: right;\">\n",
              "      <th></th>\n",
              "      <th>Unnamed: 0</th>\n",
              "      <th>Unnamed: 0_x</th>\n",
              "      <th>location</th>\n",
              "      <th>iso_code</th>\n",
              "      <th>total_vaccination_per_day</th>\n",
              "      <th>Unnamed: 0_y</th>\n",
              "      <th>Country/Region</th>\n",
              "      <th>dates</th>\n",
              "      <th>confirmed_cases</th>\n",
              "    </tr>\n",
              "  </thead>\n",
              "  <tbody>\n",
              "    <tr>\n",
              "      <th>0</th>\n",
              "      <td>0</td>\n",
              "      <td>0</td>\n",
              "      <td>Afghanistan</td>\n",
              "      <td>AFG</td>\n",
              "      <td>0.0</td>\n",
              "      <td>397</td>\n",
              "      <td>Afghanistan</td>\n",
              "      <td>2021-02-22</td>\n",
              "      <td>55617</td>\n",
              "    </tr>\n",
              "    <tr>\n",
              "      <th>1</th>\n",
              "      <td>1</td>\n",
              "      <td>1</td>\n",
              "      <td>Afghanistan</td>\n",
              "      <td>AFG</td>\n",
              "      <td>1367.0</td>\n",
              "      <td>398</td>\n",
              "      <td>Afghanistan</td>\n",
              "      <td>2021-02-23</td>\n",
              "      <td>55646</td>\n",
              "    </tr>\n",
              "    <tr>\n",
              "      <th>2</th>\n",
              "      <td>2</td>\n",
              "      <td>2</td>\n",
              "      <td>Afghanistan</td>\n",
              "      <td>AFG</td>\n",
              "      <td>2734.0</td>\n",
              "      <td>399</td>\n",
              "      <td>Afghanistan</td>\n",
              "      <td>2021-02-24</td>\n",
              "      <td>55664</td>\n",
              "    </tr>\n",
              "    <tr>\n",
              "      <th>3</th>\n",
              "      <td>3</td>\n",
              "      <td>3</td>\n",
              "      <td>Afghanistan</td>\n",
              "      <td>AFG</td>\n",
              "      <td>4101.0</td>\n",
              "      <td>400</td>\n",
              "      <td>Afghanistan</td>\n",
              "      <td>2021-02-25</td>\n",
              "      <td>55680</td>\n",
              "    </tr>\n",
              "    <tr>\n",
              "      <th>4</th>\n",
              "      <td>4</td>\n",
              "      <td>4</td>\n",
              "      <td>Afghanistan</td>\n",
              "      <td>AFG</td>\n",
              "      <td>5468.0</td>\n",
              "      <td>401</td>\n",
              "      <td>Afghanistan</td>\n",
              "      <td>2021-02-26</td>\n",
              "      <td>55696</td>\n",
              "    </tr>\n",
              "    <tr>\n",
              "      <th>...</th>\n",
              "      <td>...</td>\n",
              "      <td>...</td>\n",
              "      <td>...</td>\n",
              "      <td>...</td>\n",
              "      <td>...</td>\n",
              "      <td>...</td>\n",
              "      <td>...</td>\n",
              "      <td>...</td>\n",
              "      <td>...</td>\n",
              "    </tr>\n",
              "    <tr>\n",
              "      <th>70946</th>\n",
              "      <td>70946</td>\n",
              "      <td>87816</td>\n",
              "      <td>Zimbabwe</td>\n",
              "      <td>ZWE</td>\n",
              "      <td>4372952.0</td>\n",
              "      <td>154434</td>\n",
              "      <td>Zimbabwe</td>\n",
              "      <td>2022-03-06</td>\n",
              "      <td>6842244</td>\n",
              "    </tr>\n",
              "    <tr>\n",
              "      <th>70947</th>\n",
              "      <td>70947</td>\n",
              "      <td>87817</td>\n",
              "      <td>Zimbabwe</td>\n",
              "      <td>ZWE</td>\n",
              "      <td>4375484.0</td>\n",
              "      <td>154435</td>\n",
              "      <td>Zimbabwe</td>\n",
              "      <td>2022-03-07</td>\n",
              "      <td>6906704</td>\n",
              "    </tr>\n",
              "    <tr>\n",
              "      <th>70948</th>\n",
              "      <td>70948</td>\n",
              "      <td>87818</td>\n",
              "      <td>Zimbabwe</td>\n",
              "      <td>ZWE</td>\n",
              "      <td>4377788.0</td>\n",
              "      <td>154436</td>\n",
              "      <td>Zimbabwe</td>\n",
              "      <td>2022-03-08</td>\n",
              "      <td>6972949</td>\n",
              "    </tr>\n",
              "    <tr>\n",
              "      <th>70949</th>\n",
              "      <td>70949</td>\n",
              "      <td>87819</td>\n",
              "      <td>Zimbabwe</td>\n",
              "      <td>ZWE</td>\n",
              "      <td>4380368.0</td>\n",
              "      <td>154437</td>\n",
              "      <td>Zimbabwe</td>\n",
              "      <td>2022-03-09</td>\n",
              "      <td>7047195</td>\n",
              "    </tr>\n",
              "    <tr>\n",
              "      <th>70950</th>\n",
              "      <td>70950</td>\n",
              "      <td>87820</td>\n",
              "      <td>Zimbabwe</td>\n",
              "      <td>ZWE</td>\n",
              "      <td>4382822.0</td>\n",
              "      <td>154438</td>\n",
              "      <td>Zimbabwe</td>\n",
              "      <td>2022-03-10</td>\n",
              "      <td>7121713</td>\n",
              "    </tr>\n",
              "  </tbody>\n",
              "</table>\n",
              "<p>70951 rows × 9 columns</p>\n",
              "</div>\n",
              "      <button class=\"colab-df-convert\" onclick=\"convertToInteractive('df-f513f60c-944d-4cfb-8a2e-457523297f78')\"\n",
              "              title=\"Convert this dataframe to an interactive table.\"\n",
              "              style=\"display:none;\">\n",
              "        \n",
              "  <svg xmlns=\"http://www.w3.org/2000/svg\" height=\"24px\"viewBox=\"0 0 24 24\"\n",
              "       width=\"24px\">\n",
              "    <path d=\"M0 0h24v24H0V0z\" fill=\"none\"/>\n",
              "    <path d=\"M18.56 5.44l.94 2.06.94-2.06 2.06-.94-2.06-.94-.94-2.06-.94 2.06-2.06.94zm-11 1L8.5 8.5l.94-2.06 2.06-.94-2.06-.94L8.5 2.5l-.94 2.06-2.06.94zm10 10l.94 2.06.94-2.06 2.06-.94-2.06-.94-.94-2.06-.94 2.06-2.06.94z\"/><path d=\"M17.41 7.96l-1.37-1.37c-.4-.4-.92-.59-1.43-.59-.52 0-1.04.2-1.43.59L10.3 9.45l-7.72 7.72c-.78.78-.78 2.05 0 2.83L4 21.41c.39.39.9.59 1.41.59.51 0 1.02-.2 1.41-.59l7.78-7.78 2.81-2.81c.8-.78.8-2.07 0-2.86zM5.41 20L4 18.59l7.72-7.72 1.47 1.35L5.41 20z\"/>\n",
              "  </svg>\n",
              "      </button>\n",
              "      \n",
              "  <style>\n",
              "    .colab-df-container {\n",
              "      display:flex;\n",
              "      flex-wrap:wrap;\n",
              "      gap: 12px;\n",
              "    }\n",
              "\n",
              "    .colab-df-convert {\n",
              "      background-color: #E8F0FE;\n",
              "      border: none;\n",
              "      border-radius: 50%;\n",
              "      cursor: pointer;\n",
              "      display: none;\n",
              "      fill: #1967D2;\n",
              "      height: 32px;\n",
              "      padding: 0 0 0 0;\n",
              "      width: 32px;\n",
              "    }\n",
              "\n",
              "    .colab-df-convert:hover {\n",
              "      background-color: #E2EBFA;\n",
              "      box-shadow: 0px 1px 2px rgba(60, 64, 67, 0.3), 0px 1px 3px 1px rgba(60, 64, 67, 0.15);\n",
              "      fill: #174EA6;\n",
              "    }\n",
              "\n",
              "    [theme=dark] .colab-df-convert {\n",
              "      background-color: #3B4455;\n",
              "      fill: #D2E3FC;\n",
              "    }\n",
              "\n",
              "    [theme=dark] .colab-df-convert:hover {\n",
              "      background-color: #434B5C;\n",
              "      box-shadow: 0px 1px 3px 1px rgba(0, 0, 0, 0.15);\n",
              "      filter: drop-shadow(0px 1px 2px rgba(0, 0, 0, 0.3));\n",
              "      fill: #FFFFFF;\n",
              "    }\n",
              "  </style>\n",
              "\n",
              "      <script>\n",
              "        const buttonEl =\n",
              "          document.querySelector('#df-f513f60c-944d-4cfb-8a2e-457523297f78 button.colab-df-convert');\n",
              "        buttonEl.style.display =\n",
              "          google.colab.kernel.accessAllowed ? 'block' : 'none';\n",
              "\n",
              "        async function convertToInteractive(key) {\n",
              "          const element = document.querySelector('#df-f513f60c-944d-4cfb-8a2e-457523297f78');\n",
              "          const dataTable =\n",
              "            await google.colab.kernel.invokeFunction('convertToInteractive',\n",
              "                                                     [key], {});\n",
              "          if (!dataTable) return;\n",
              "\n",
              "          const docLinkHtml = 'Like what you see? Visit the ' +\n",
              "            '<a target=\"_blank\" href=https://colab.research.google.com/notebooks/data_table.ipynb>data table notebook</a>'\n",
              "            + ' to learn more about interactive tables.';\n",
              "          element.innerHTML = '';\n",
              "          dataTable['output_type'] = 'display_data';\n",
              "          await google.colab.output.renderOutput(dataTable, element);\n",
              "          const docLink = document.createElement('div');\n",
              "          docLink.innerHTML = docLinkHtml;\n",
              "          element.appendChild(docLink);\n",
              "        }\n",
              "      </script>\n",
              "    </div>\n",
              "  </div>\n",
              "  "
            ]
          },
          "metadata": {},
          "execution_count": 5
        }
      ]
    },
    {
      "cell_type": "markdown",
      "source": [
        "##Data preprocessing"
      ],
      "metadata": {
        "id": "qkcCk7bLnHy7"
      }
    },
    {
      "cell_type": "code",
      "source": [
        "covid_sorted_df = {}\n",
        "for country in covid_df['Country/Region'].unique():\n",
        "  min_date = covid_df[covid_df['Country/Region'] == country].dates.min()\n",
        "  covid_sorted_df[country] = covid_df[covid_df['Country/Region'] == country].sort_values(by=['dates']).copy()\n",
        "  covid_sorted_df[country]['days'] = (covid_sorted_df[country].dates - min_date).dt.days"
      ],
      "metadata": {
        "id": "jbwu-SYooIzr"
      },
      "execution_count": 6,
      "outputs": []
    },
    {
      "cell_type": "code",
      "source": [
        "covid_sorted_df['Afghanistan'].days.min()"
      ],
      "metadata": {
        "colab": {
          "base_uri": "https://localhost:8080/"
        },
        "id": "JTMo8SxsVsea",
        "outputId": "96d7c35e-310f-4e7c-c7c0-1e004143463c"
      },
      "execution_count": 7,
      "outputs": [
        {
          "output_type": "execute_result",
          "data": {
            "text/plain": [
              "0"
            ]
          },
          "metadata": {},
          "execution_count": 7
        }
      ]
    },
    {
      "cell_type": "code",
      "source": [
        "covid_sorted_df['India']"
      ],
      "metadata": {
        "colab": {
          "base_uri": "https://localhost:8080/",
          "height": 424
        },
        "id": "_NPKhEOfpwt6",
        "outputId": "7aa956d6-a392-4b48-8ba5-dc3367ffe1d7"
      },
      "execution_count": 8,
      "outputs": [
        {
          "output_type": "execute_result",
          "data": {
            "text/plain": [
              "       Unnamed: 0  Unnamed: 0_x location iso_code  total_vaccination_per_day  \\\n",
              "28173       28173         35997    India      IND                        0.0   \n",
              "28174       28174         35998    India      IND                   191181.0   \n",
              "28175       28175         35999    India      IND                   303331.0   \n",
              "28176       28176         36000    India      IND                   454681.0   \n",
              "28177       28177         36001    India      IND                   623390.0   \n",
              "...           ...           ...      ...      ...                        ...   \n",
              "28589       28589         36413    India      IND                967225377.0   \n",
              "28590       28590         36414    India      IND                967482854.0   \n",
              "28591       28591         36415    India      IND                967743046.0   \n",
              "28592       28592         36416    India      IND                967978162.0   \n",
              "28593       28593         36417    India      IND                968213010.0   \n",
              "\n",
              "       Unnamed: 0_y Country/Region      dates  confirmed_cases  days  \n",
              "28173         62759          India 2021-01-15            12333     0  \n",
              "28174         62760          India 2021-01-16            12355     1  \n",
              "28175         62761          India 2021-01-17            12400     2  \n",
              "28176         62762          India 2021-01-18            12453     3  \n",
              "28177         62763          India 2021-01-19            12518     4  \n",
              "...             ...            ...        ...              ...   ...  \n",
              "28589         63175          India 2022-03-07            28127   416  \n",
              "28590         63176          India 2022-03-08            28379   417  \n",
              "28591         63177          India 2022-03-09            28583   418  \n",
              "28592         63178          India 2022-03-10            29117   419  \n",
              "28593         63179          India 2022-03-11            29436   420  \n",
              "\n",
              "[421 rows x 10 columns]"
            ],
            "text/html": [
              "\n",
              "  <div id=\"df-bae1d08c-ae35-4ca7-937b-52fa2c773001\">\n",
              "    <div class=\"colab-df-container\">\n",
              "      <div>\n",
              "<style scoped>\n",
              "    .dataframe tbody tr th:only-of-type {\n",
              "        vertical-align: middle;\n",
              "    }\n",
              "\n",
              "    .dataframe tbody tr th {\n",
              "        vertical-align: top;\n",
              "    }\n",
              "\n",
              "    .dataframe thead th {\n",
              "        text-align: right;\n",
              "    }\n",
              "</style>\n",
              "<table border=\"1\" class=\"dataframe\">\n",
              "  <thead>\n",
              "    <tr style=\"text-align: right;\">\n",
              "      <th></th>\n",
              "      <th>Unnamed: 0</th>\n",
              "      <th>Unnamed: 0_x</th>\n",
              "      <th>location</th>\n",
              "      <th>iso_code</th>\n",
              "      <th>total_vaccination_per_day</th>\n",
              "      <th>Unnamed: 0_y</th>\n",
              "      <th>Country/Region</th>\n",
              "      <th>dates</th>\n",
              "      <th>confirmed_cases</th>\n",
              "      <th>days</th>\n",
              "    </tr>\n",
              "  </thead>\n",
              "  <tbody>\n",
              "    <tr>\n",
              "      <th>28173</th>\n",
              "      <td>28173</td>\n",
              "      <td>35997</td>\n",
              "      <td>India</td>\n",
              "      <td>IND</td>\n",
              "      <td>0.0</td>\n",
              "      <td>62759</td>\n",
              "      <td>India</td>\n",
              "      <td>2021-01-15</td>\n",
              "      <td>12333</td>\n",
              "      <td>0</td>\n",
              "    </tr>\n",
              "    <tr>\n",
              "      <th>28174</th>\n",
              "      <td>28174</td>\n",
              "      <td>35998</td>\n",
              "      <td>India</td>\n",
              "      <td>IND</td>\n",
              "      <td>191181.0</td>\n",
              "      <td>62760</td>\n",
              "      <td>India</td>\n",
              "      <td>2021-01-16</td>\n",
              "      <td>12355</td>\n",
              "      <td>1</td>\n",
              "    </tr>\n",
              "    <tr>\n",
              "      <th>28175</th>\n",
              "      <td>28175</td>\n",
              "      <td>35999</td>\n",
              "      <td>India</td>\n",
              "      <td>IND</td>\n",
              "      <td>303331.0</td>\n",
              "      <td>62761</td>\n",
              "      <td>India</td>\n",
              "      <td>2021-01-17</td>\n",
              "      <td>12400</td>\n",
              "      <td>2</td>\n",
              "    </tr>\n",
              "    <tr>\n",
              "      <th>28176</th>\n",
              "      <td>28176</td>\n",
              "      <td>36000</td>\n",
              "      <td>India</td>\n",
              "      <td>IND</td>\n",
              "      <td>454681.0</td>\n",
              "      <td>62762</td>\n",
              "      <td>India</td>\n",
              "      <td>2021-01-18</td>\n",
              "      <td>12453</td>\n",
              "      <td>3</td>\n",
              "    </tr>\n",
              "    <tr>\n",
              "      <th>28177</th>\n",
              "      <td>28177</td>\n",
              "      <td>36001</td>\n",
              "      <td>India</td>\n",
              "      <td>IND</td>\n",
              "      <td>623390.0</td>\n",
              "      <td>62763</td>\n",
              "      <td>India</td>\n",
              "      <td>2021-01-19</td>\n",
              "      <td>12518</td>\n",
              "      <td>4</td>\n",
              "    </tr>\n",
              "    <tr>\n",
              "      <th>...</th>\n",
              "      <td>...</td>\n",
              "      <td>...</td>\n",
              "      <td>...</td>\n",
              "      <td>...</td>\n",
              "      <td>...</td>\n",
              "      <td>...</td>\n",
              "      <td>...</td>\n",
              "      <td>...</td>\n",
              "      <td>...</td>\n",
              "      <td>...</td>\n",
              "    </tr>\n",
              "    <tr>\n",
              "      <th>28589</th>\n",
              "      <td>28589</td>\n",
              "      <td>36413</td>\n",
              "      <td>India</td>\n",
              "      <td>IND</td>\n",
              "      <td>967225377.0</td>\n",
              "      <td>63175</td>\n",
              "      <td>India</td>\n",
              "      <td>2022-03-07</td>\n",
              "      <td>28127</td>\n",
              "      <td>416</td>\n",
              "    </tr>\n",
              "    <tr>\n",
              "      <th>28590</th>\n",
              "      <td>28590</td>\n",
              "      <td>36414</td>\n",
              "      <td>India</td>\n",
              "      <td>IND</td>\n",
              "      <td>967482854.0</td>\n",
              "      <td>63176</td>\n",
              "      <td>India</td>\n",
              "      <td>2022-03-08</td>\n",
              "      <td>28379</td>\n",
              "      <td>417</td>\n",
              "    </tr>\n",
              "    <tr>\n",
              "      <th>28591</th>\n",
              "      <td>28591</td>\n",
              "      <td>36415</td>\n",
              "      <td>India</td>\n",
              "      <td>IND</td>\n",
              "      <td>967743046.0</td>\n",
              "      <td>63177</td>\n",
              "      <td>India</td>\n",
              "      <td>2022-03-09</td>\n",
              "      <td>28583</td>\n",
              "      <td>418</td>\n",
              "    </tr>\n",
              "    <tr>\n",
              "      <th>28592</th>\n",
              "      <td>28592</td>\n",
              "      <td>36416</td>\n",
              "      <td>India</td>\n",
              "      <td>IND</td>\n",
              "      <td>967978162.0</td>\n",
              "      <td>63178</td>\n",
              "      <td>India</td>\n",
              "      <td>2022-03-10</td>\n",
              "      <td>29117</td>\n",
              "      <td>419</td>\n",
              "    </tr>\n",
              "    <tr>\n",
              "      <th>28593</th>\n",
              "      <td>28593</td>\n",
              "      <td>36417</td>\n",
              "      <td>India</td>\n",
              "      <td>IND</td>\n",
              "      <td>968213010.0</td>\n",
              "      <td>63179</td>\n",
              "      <td>India</td>\n",
              "      <td>2022-03-11</td>\n",
              "      <td>29436</td>\n",
              "      <td>420</td>\n",
              "    </tr>\n",
              "  </tbody>\n",
              "</table>\n",
              "<p>421 rows × 10 columns</p>\n",
              "</div>\n",
              "      <button class=\"colab-df-convert\" onclick=\"convertToInteractive('df-bae1d08c-ae35-4ca7-937b-52fa2c773001')\"\n",
              "              title=\"Convert this dataframe to an interactive table.\"\n",
              "              style=\"display:none;\">\n",
              "        \n",
              "  <svg xmlns=\"http://www.w3.org/2000/svg\" height=\"24px\"viewBox=\"0 0 24 24\"\n",
              "       width=\"24px\">\n",
              "    <path d=\"M0 0h24v24H0V0z\" fill=\"none\"/>\n",
              "    <path d=\"M18.56 5.44l.94 2.06.94-2.06 2.06-.94-2.06-.94-.94-2.06-.94 2.06-2.06.94zm-11 1L8.5 8.5l.94-2.06 2.06-.94-2.06-.94L8.5 2.5l-.94 2.06-2.06.94zm10 10l.94 2.06.94-2.06 2.06-.94-2.06-.94-.94-2.06-.94 2.06-2.06.94z\"/><path d=\"M17.41 7.96l-1.37-1.37c-.4-.4-.92-.59-1.43-.59-.52 0-1.04.2-1.43.59L10.3 9.45l-7.72 7.72c-.78.78-.78 2.05 0 2.83L4 21.41c.39.39.9.59 1.41.59.51 0 1.02-.2 1.41-.59l7.78-7.78 2.81-2.81c.8-.78.8-2.07 0-2.86zM5.41 20L4 18.59l7.72-7.72 1.47 1.35L5.41 20z\"/>\n",
              "  </svg>\n",
              "      </button>\n",
              "      \n",
              "  <style>\n",
              "    .colab-df-container {\n",
              "      display:flex;\n",
              "      flex-wrap:wrap;\n",
              "      gap: 12px;\n",
              "    }\n",
              "\n",
              "    .colab-df-convert {\n",
              "      background-color: #E8F0FE;\n",
              "      border: none;\n",
              "      border-radius: 50%;\n",
              "      cursor: pointer;\n",
              "      display: none;\n",
              "      fill: #1967D2;\n",
              "      height: 32px;\n",
              "      padding: 0 0 0 0;\n",
              "      width: 32px;\n",
              "    }\n",
              "\n",
              "    .colab-df-convert:hover {\n",
              "      background-color: #E2EBFA;\n",
              "      box-shadow: 0px 1px 2px rgba(60, 64, 67, 0.3), 0px 1px 3px 1px rgba(60, 64, 67, 0.15);\n",
              "      fill: #174EA6;\n",
              "    }\n",
              "\n",
              "    [theme=dark] .colab-df-convert {\n",
              "      background-color: #3B4455;\n",
              "      fill: #D2E3FC;\n",
              "    }\n",
              "\n",
              "    [theme=dark] .colab-df-convert:hover {\n",
              "      background-color: #434B5C;\n",
              "      box-shadow: 0px 1px 3px 1px rgba(0, 0, 0, 0.15);\n",
              "      filter: drop-shadow(0px 1px 2px rgba(0, 0, 0, 0.3));\n",
              "      fill: #FFFFFF;\n",
              "    }\n",
              "  </style>\n",
              "\n",
              "      <script>\n",
              "        const buttonEl =\n",
              "          document.querySelector('#df-bae1d08c-ae35-4ca7-937b-52fa2c773001 button.colab-df-convert');\n",
              "        buttonEl.style.display =\n",
              "          google.colab.kernel.accessAllowed ? 'block' : 'none';\n",
              "\n",
              "        async function convertToInteractive(key) {\n",
              "          const element = document.querySelector('#df-bae1d08c-ae35-4ca7-937b-52fa2c773001');\n",
              "          const dataTable =\n",
              "            await google.colab.kernel.invokeFunction('convertToInteractive',\n",
              "                                                     [key], {});\n",
              "          if (!dataTable) return;\n",
              "\n",
              "          const docLinkHtml = 'Like what you see? Visit the ' +\n",
              "            '<a target=\"_blank\" href=https://colab.research.google.com/notebooks/data_table.ipynb>data table notebook</a>'\n",
              "            + ' to learn more about interactive tables.';\n",
              "          element.innerHTML = '';\n",
              "          dataTable['output_type'] = 'display_data';\n",
              "          await google.colab.output.renderOutput(dataTable, element);\n",
              "          const docLink = document.createElement('div');\n",
              "          docLink.innerHTML = docLinkHtml;\n",
              "          element.appendChild(docLink);\n",
              "        }\n",
              "      </script>\n",
              "    </div>\n",
              "  </div>\n",
              "  "
            ]
          },
          "metadata": {},
          "execution_count": 8
        }
      ]
    },
    {
      "cell_type": "code",
      "source": [
        "len(covid_sorted_df) == covid_df['Country/Region'].nunique()"
      ],
      "metadata": {
        "colab": {
          "base_uri": "https://localhost:8080/"
        },
        "id": "RG3MsV9PneZw",
        "outputId": "d1d37357-a60c-4138-a903-9fcd4604a1c7"
      },
      "execution_count": 9,
      "outputs": [
        {
          "output_type": "execute_result",
          "data": {
            "text/plain": [
              "True"
            ]
          },
          "metadata": {},
          "execution_count": 9
        }
      ]
    },
    {
      "cell_type": "markdown",
      "source": [
        "####Functions for processing data"
      ],
      "metadata": {
        "id": "vkrDNf4jfZ74"
      }
    },
    {
      "cell_type": "code",
      "execution_count": 10,
      "metadata": {
        "id": "dgTBHt0xV0D8"
      },
      "outputs": [],
      "source": [
        "def create_dataset(n_X, look_back):\n",
        "   dataX, dataY = [], []\n",
        "   for i in range(len(n_X)-look_back):\n",
        "      a = n_X[i:(i+look_back), ]\n",
        "      dataX.append(a)\n",
        "      dataY.append(n_X[i + look_back, ])\n",
        "   return np.array(dataX), np.array(dataY)"
      ]
    },
    {
      "cell_type": "markdown",
      "source": [
        "####Scaling data"
      ],
      "metadata": {
        "id": "q8WORFXHgYiW"
      }
    },
    {
      "cell_type": "code",
      "source": [
        "vacc_data = {}\n",
        "scaler = {}\n",
        "\n",
        "for country in covid_sorted_df.keys():\n",
        "  #data\n",
        "  scaling_df = global_data[global_data['Country/Region'] == country].copy()\n",
        "  temp_df = covid_sorted_df[country].copy()\n",
        "\n",
        "  train_data_size = int(0.9*temp_df.shape[0])\n",
        "\n",
        "#Scaling Data=============================================\n",
        "  scaler[country] = MinMaxScaler(feature_range=(0, 1))\n",
        "  \n",
        "  #Fitting data\n",
        "  global_x = scaling_df.confirmed_cases.values\n",
        "  global_x = global_x.reshape(len(global_x), 1)\n",
        "  scaler[country].fit(global_x)\n",
        "\n",
        "  #transforming data\n",
        "  x = temp_df.confirmed_cases.values\n",
        "  x = x.reshape((len(x), 1))\n",
        "  x = scaler[country].transform(x)\n",
        "  temp_df.confirmed_cases = np.reshape(x,len(x))\n",
        "  \n",
        "  #testing data\n",
        "  # vacc_data[country] = temp_df['confirmed_cases'].to_numpy(copy = True)\n",
        "  vacc_data[country] = temp_df.tail(temp_df.shape[0] - train_data_size)['confirmed_cases'].to_numpy(copy = True)"
      ],
      "metadata": {
        "id": "BdrmQja3tcda"
      },
      "execution_count": 11,
      "outputs": []
    },
    {
      "cell_type": "code",
      "source": [
        "#test data for model\n",
        "test_x = {}\n",
        "test_y = {}\n",
        "\n",
        "#creating data for model\n",
        "look_back = 7                 #change this value to select number of timestamps\n",
        "for country in vacc_data.keys():\n",
        "  test_x[country], test_y[country] = create_dataset(vacc_data[country], look_back)\n",
        "  \n",
        "  test_x[country] = np.reshape(test_x[country], (test_x[country].shape[0], look_back, 1))"
      ],
      "metadata": {
        "id": "3v_v2TsXkiCh"
      },
      "execution_count": 12,
      "outputs": []
    },
    {
      "cell_type": "code",
      "source": [
        "test_x['Afghanistan'].shape, test_y['Afghanistan'].shape"
      ],
      "metadata": {
        "colab": {
          "base_uri": "https://localhost:8080/"
        },
        "id": "woMx-L4kuR6x",
        "outputId": "48e8c451-7c85-4678-d4b6-3698c379803d"
      },
      "execution_count": 13,
      "outputs": [
        {
          "output_type": "execute_result",
          "data": {
            "text/plain": [
              "((31, 7, 1), (31,))"
            ]
          },
          "metadata": {},
          "execution_count": 13
        }
      ]
    },
    {
      "cell_type": "code",
      "source": [
        "test_y['Afghanistan'][:2]"
      ],
      "metadata": {
        "colab": {
          "base_uri": "https://localhost:8080/"
        },
        "id": "vFeU0q1GYuoa",
        "outputId": "82d2e03d-aab4-45f1-f232-b04cb2f7e3ce"
      },
      "execution_count": 14,
      "outputs": [
        {
          "output_type": "execute_result",
          "data": {
            "text/plain": [
              "array([0.93967291, 0.94167888])"
            ]
          },
          "metadata": {},
          "execution_count": 14
        }
      ]
    },
    {
      "cell_type": "code",
      "source": [
        "test_x['Afghanistan'][:2]"
      ],
      "metadata": {
        "colab": {
          "base_uri": "https://localhost:8080/"
        },
        "id": "ztlLJs9KYhos",
        "outputId": "c55396c3-2439-4d0d-d3dc-94f634733991"
      },
      "execution_count": 15,
      "outputs": [
        {
          "output_type": "execute_result",
          "data": {
            "text/plain": [
              "array([[[0.9152318 ],\n",
              "        [0.91655585],\n",
              "        [0.92122132],\n",
              "        [0.92585268],\n",
              "        [0.92942707],\n",
              "        [0.93303556],\n",
              "        [0.93608715]],\n",
              "\n",
              "       [[0.91655585],\n",
              "        [0.92122132],\n",
              "        [0.92585268],\n",
              "        [0.92942707],\n",
              "        [0.93303556],\n",
              "        [0.93608715],\n",
              "        [0.93967291]]])"
            ]
          },
          "metadata": {},
          "execution_count": 15
        }
      ]
    },
    {
      "cell_type": "markdown",
      "source": [
        "##Prediction"
      ],
      "metadata": {
        "id": "8oR8aWroqNbx"
      }
    },
    {
      "cell_type": "code",
      "source": [
        "from keras.models import load_model\n",
        "countryDict = {'India', 'US', 'Australia', 'Albania', 'United Kingdom', 'South Africa' }"
      ],
      "metadata": {
        "id": "nCFr6N7mnZVq"
      },
      "execution_count": 16,
      "outputs": []
    },
    {
      "cell_type": "markdown",
      "source": [
        "####Loading models and libraries"
      ],
      "metadata": {
        "id": "qzsaDrevqSX9"
      }
    },
    {
      "cell_type": "code",
      "source": [
        "# Saved models loaded from a file\n",
        "model_gru = {}\n",
        "model_lstm = {}\n",
        "# model_gru_bfr = {}\n",
        "# model_gru_aftr = {}\n",
        "\n",
        "#days for each country\n",
        "days_test = {}\n",
        "\n",
        "#output to change dimension\n",
        "y_test = {}\n",
        "\n",
        "# Variables to store predictions\n",
        "pred_gru_test = {}\n",
        "pred_lstm_test = {}\n",
        "# pred_gru_bfr = {}\n",
        "# pred_gru_aftr = {}"
      ],
      "metadata": {
        "id": "3Dx5P6_6djli"
      },
      "execution_count": 17,
      "outputs": []
    },
    {
      "cell_type": "code",
      "source": [
        "#Loading models\n",
        "for country in countryDict:\n",
        "  model_gru[country] = load_model(f\"/content/drive/MyDrive/Final Year Project/GRU_models/after_vaccination/{country}\")\n",
        "  model_lstm[country] = load_model(f\"/content/drive/MyDrive/Final Year Project/LSTM_models/after_vaccination/{country}\")\n",
        "  # model_gru_bfr[country] = load_model(f\"/content/drive/MyDrive/Final Year Project/GRU_models/before_vaccination/{country}\")\n",
        "  # model_gru_aftr[country] = load_model(f\"/content/drive/MyDrive/Final Year Project/GRU_models/after_vaccination/{country}\")"
      ],
      "metadata": {
        "id": "OQthkae18fX8"
      },
      "execution_count": 18,
      "outputs": []
    },
    {
      "cell_type": "markdown",
      "source": [
        "####Predicting data"
      ],
      "metadata": {
        "id": "3xv3aR9t7UAQ"
      }
    },
    {
      "cell_type": "code",
      "source": [
        "#prediction\n",
        "for country in countryDict:\n",
        "  temp_test_df = covid_sorted_df[country]\n",
        "  \n",
        "  days_test[country] = temp_test_df.dates[7:]\n",
        "\n",
        "  test_pred_gru = model_gru[country].predict(test_x[country])\n",
        "  test_pred_lstm = model_lstm[country].predict(test_x[country])\n",
        "  # test_pred_bfr = model_gru_bfr[country].predict(test_x[country])\n",
        "  # test_pred_aftr = model_gru_aftr[country].predict(test_x[country])\n",
        "\n",
        "  pred_gru_test[country] = scaler[country].inverse_transform(test_pred_gru)\n",
        "  pred_lstm_test[country] = scaler[country].inverse_transform(test_pred_lstm)\n",
        "  # pred_gru_bfr[country] = scaler[country].inverse_transform(test_pred_bfr)\n",
        "  # pred_gru_aftr[country] = scaler[country].inverse_transform(test_pred_aftr)\n",
        "\n",
        "  y_test[country] = scaler[country].inverse_transform(test_y[country].reshape(-1, 1))"
      ],
      "metadata": {
        "id": "9f-InJ9Lq58_",
        "colab": {
          "base_uri": "https://localhost:8080/"
        },
        "outputId": "a726f16e-e66b-4dd8-c587-c91e5cd76deb"
      },
      "execution_count": 19,
      "outputs": [
        {
          "output_type": "stream",
          "name": "stdout",
          "text": [
            "WARNING:tensorflow:5 out of the last 9 calls to <function Model.make_predict_function.<locals>.predict_function at 0x7f9af702a9e0> triggered tf.function retracing. Tracing is expensive and the excessive number of tracings could be due to (1) creating @tf.function repeatedly in a loop, (2) passing tensors with different shapes, (3) passing Python objects instead of tensors. For (1), please define your @tf.function outside of the loop. For (2), @tf.function has experimental_relax_shapes=True option that relaxes argument shapes that can avoid unnecessary retracing. For (3), please refer to https://www.tensorflow.org/guide/function#controlling_retracing and https://www.tensorflow.org/api_docs/python/tf/function for  more details.\n",
            "WARNING:tensorflow:6 out of the last 11 calls to <function Model.make_predict_function.<locals>.predict_function at 0x7f9af6e7ae60> triggered tf.function retracing. Tracing is expensive and the excessive number of tracings could be due to (1) creating @tf.function repeatedly in a loop, (2) passing tensors with different shapes, (3) passing Python objects instead of tensors. For (1), please define your @tf.function outside of the loop. For (2), @tf.function has experimental_relax_shapes=True option that relaxes argument shapes that can avoid unnecessary retracing. For (3), please refer to https://www.tensorflow.org/guide/function#controlling_retracing and https://www.tensorflow.org/api_docs/python/tf/function for  more details.\n"
          ]
        }
      ]
    },
    {
      "cell_type": "code",
      "source": [
        "# print(\"Before Vaccination - Covi Predictions:\\n\")\n",
        "# for country in countryDict:\n",
        "#   print(f\"{country}:\\t{pred_gru_bfr[country].shape}\")"
      ],
      "metadata": {
        "id": "GObjt7zi6Umq"
      },
      "execution_count": 20,
      "outputs": []
    },
    {
      "cell_type": "code",
      "source": [
        "# print(\"After Vaccination - Covid Predictions:\\n\")\n",
        "# for country in countryDict:\n",
        "#   print(f\"{country}:\\t{pred_gru_aftr[country].shape}\")"
      ],
      "metadata": {
        "id": "J8_s3wvZ6Va2"
      },
      "execution_count": 21,
      "outputs": []
    },
    {
      "cell_type": "code",
      "source": [
        "print(\"GRU: info\")\n",
        "for country in countryDict:\n",
        "  print(f\"{country}:\\t{pred_gru_test[country].shape}\")"
      ],
      "metadata": {
        "id": "l4Y6rtbypcIe",
        "colab": {
          "base_uri": "https://localhost:8080/"
        },
        "outputId": "52bdd1c6-8cd2-4077-fe18-07d553b38acc"
      },
      "execution_count": 22,
      "outputs": [
        {
          "output_type": "stream",
          "name": "stdout",
          "text": [
            "GRU: info\n",
            "US:\t(39, 1)\n",
            "India:\t(36, 1)\n",
            "United Kingdom:\t(36, 1)\n",
            "South Africa:\t(32, 1)\n",
            "Australia:\t(32, 1)\n",
            "Albania:\t(36, 1)\n"
          ]
        }
      ]
    },
    {
      "cell_type": "code",
      "source": [
        "print(\"LSTM: info\")\n",
        "for country in countryDict:\n",
        "  print(f\"{country}:\\t{pred_lstm_test[country].shape}\")"
      ],
      "metadata": {
        "colab": {
          "base_uri": "https://localhost:8080/"
        },
        "id": "WP5MmKhpi5mb",
        "outputId": "bf5b3ed0-083c-4163-da8a-acfbdc688517"
      },
      "execution_count": 23,
      "outputs": [
        {
          "output_type": "stream",
          "name": "stdout",
          "text": [
            "LSTM: info\n",
            "US:\t(39, 1)\n",
            "India:\t(36, 1)\n",
            "United Kingdom:\t(36, 1)\n",
            "South Africa:\t(32, 1)\n",
            "Australia:\t(32, 1)\n",
            "Albania:\t(36, 1)\n"
          ]
        }
      ]
    },
    {
      "cell_type": "markdown",
      "source": [
        "####Plotting prediction on Test Data"
      ],
      "metadata": {
        "id": "NEE7qkTyleLy"
      }
    },
    {
      "cell_type": "code",
      "source": [
        "days_test['India'].shape, vacc_data['India'].shape, test_x['India'].shape"
      ],
      "metadata": {
        "colab": {
          "base_uri": "https://localhost:8080/"
        },
        "id": "n-XqWT9USn9e",
        "outputId": "bccd270e-0258-4d47-8b1c-20d3b7f3304b"
      },
      "execution_count": 24,
      "outputs": [
        {
          "output_type": "execute_result",
          "data": {
            "text/plain": [
              "((414,), (43,), (36, 7, 1))"
            ]
          },
          "metadata": {},
          "execution_count": 24
        }
      ]
    },
    {
      "cell_type": "code",
      "source": [
        "for country in countryDict:\n",
        "  # X =  days_test[country]\n",
        "  X =  days_test[country][-pred_gru_test[country].size:]\n",
        "  plt.plot(X, pred_gru_test[country])\n",
        "  plt.plot(X, pred_lstm_test[country])\n",
        "  # plt.plot(X, pred_gru_bfr[country])\n",
        "  # plt.plot(X, pred_gru_aftr[country])\n",
        "  plt.plot(X, y_test[country])\n",
        "  plt.legend(['GRU', 'LSTM', 'actual'])\n",
        "  # plt.legend(['GRU Before Vaccination', 'GRU After Vaccination', 'actual'])\n",
        "  plt.xticks(rotation = 45)\n",
        "  plt.xlabel('dates')\n",
        "  plt.ylabel('Cumulated Covid Cases')\n",
        "  plt.title(country)\n",
        "  plt.show()"
      ],
      "metadata": {
        "id": "NfgOHcNYsmur",
        "colab": {
          "base_uri": "https://localhost:8080/",
          "height": 1000
        },
        "outputId": "c0178725-0dd1-44bc-9917-47d494cfab5c"
      },
      "execution_count": 25,
      "outputs": [
        {
          "output_type": "display_data",
          "data": {
            "text/plain": [
              "<Figure size 432x288 with 1 Axes>"
            ],
            "image/png": "[encoded data removed]"
          },
          "metadata": {
            "needs_background": "light"
          }
        },
        {
          "output_type": "display_data",
          "data": {
            "text/plain": [
              "<Figure size 432x288 with 1 Axes>"
            ],
            "image/png": "[encoded data removed]"
          },
          "metadata": {
            "needs_background": "light"
          }
        },
        {
          "output_type": "display_data",
          "data": {
            "text/plain": [
              "<Figure size 432x288 with 1 Axes>"
            ],
            "image/png": "[encoded data removed]"
          },
          "metadata": {
            "needs_background": "light"
          }
        },
        {
          "output_type": "display_data",
          "data": {
            "text/plain": [
              "<Figure size 432x288 with 1 Axes>"
            ],
            "image/png": "[encoded data removed]"
          },
          "metadata": {
            "needs_background": "light"
          }
        },
        {
          "output_type": "display_data",
          "data": {
            "text/plain": [
              "<Figure size 432x288 with 1 Axes>"
            ],
            "image/png": "[encoded data removed]"
          },
          "metadata": {
            "needs_background": "light"
          }
        },
        {
          "output_type": "display_data",
          "data": {
            "text/plain": [
              "<Figure size 432x288 with 1 Axes>"
            ],
            "image/png": "[encoded data removed]"
          },
          "metadata": {
            "needs_background": "light"
          }
        }
      ]
    }
  ]
}